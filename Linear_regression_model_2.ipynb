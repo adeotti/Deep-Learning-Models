{
 "cells": [
  {
   "cell_type": "markdown",
   "metadata": {},
   "source": [
    "You are given a dataset of a company's advertising spend on TV,radio ans Newspapers, the dataset contains the following information :\n",
    "\n",
    "\n",
    "TV : the amount of money spent on Tv advertisements in USD.\n",
    "Radio : the amount of money spent on radio advertisements in USD.\n",
    "Newspaper : the amount of money spent on newspaper advertisements in USD.\n",
    "Sales : the sales of the company in USD.\n",
    "\n",
    "Your task is to build a linear regression model is that predict the sales based on the advertising spend on TV,Radio and Newspaper.\n",
    "\n",
    "The eqution of your linear regressiob model will be the form of $$\\\\Sales = Theta_0*Theta_1*Tv + Theta_2*Radio + Theta_3*Newspaper $$ \n",
    "\n",
    "Tv, Radio and Newspaper are features of the model."
   ]
  },
  {
   "cell_type": "code",
   "execution_count": 2,
   "metadata": {},
   "outputs": [],
   "source": [
    "import torch \n",
    "import torch.nn as nn \n",
    "from sklearn.model_selection import train_test_split\n",
    "import matplotlib.pyplot as plt "
   ]
  },
  {
   "cell_type": "code",
   "execution_count": 41,
   "metadata": {},
   "outputs": [],
   "source": [
    "RANDOME_SEED = 45 \n",
    "torch.manual_seed(RANDOME_SEED)\n",
    "\n",
    "# Syntehtic dataset for the features \n",
    "\n",
    "TV = torch.rand(9)\n",
    "RADIO = torch.rand(9)\n",
    "NEWSPAPER = torch.rand(9)\n",
    "\n",
    "# Weight and bias for the model\n",
    "t0, t1, t2, t3 = torch.rand(4)\n",
    "\n",
    "sales = t1*t2*TV + t0 + t2*RADIO + t3*NEWSPAPER"
   ]
  },
  {
   "cell_type": "code",
   "execution_count": 51,
   "metadata": {},
   "outputs": [
    {
     "data": {
      "text/plain": [
       "(torch.Size([9]), torch.Size([9]))"
      ]
     },
     "execution_count": 51,
     "metadata": {},
     "output_type": "execute_result"
    }
   ],
   "source": [
    "stack = torch.stack((TV, RADIO, NEWSPAPER), dim = 1 )\n",
    "stack = stack.reshape(-1)[:9]\n",
    "\n"
   ]
  },
  {
   "cell_type": "code",
   "execution_count": 65,
   "metadata": {},
   "outputs": [],
   "source": [
    "X_train,X_test,Y_train,Y_test = train_test_split(stack,sales,\n",
    "                                                 test_size= 0.3,\n",
    "                                                 random_state= RANDOME_SEED)"
   ]
  },
  {
   "cell_type": "code",
   "execution_count": 76,
   "metadata": {},
   "outputs": [],
   "source": [
    "class LinearRegression(nn.Module) :\n",
    "    def __init__(self):\n",
    "        super().__init__()\n",
    "\n",
    "        self.weights = nn.Parameter(torch.rand(1), requires_grad = True)\n",
    "\n",
    "    def forward(self,stack) :\n",
    "        return self.weights*stack"
   ]
  },
  {
   "cell_type": "code",
   "execution_count": 77,
   "metadata": {},
   "outputs": [],
   "source": [
    "model = LinearRegression()\n",
    "loss_function = nn.L1Loss()\n",
    "optimizer = torch.optim.SGD(model.parameters(),\n",
    "                            lr = 0.001)"
   ]
  },
  {
   "cell_type": "code",
   "execution_count": 80,
   "metadata": {},
   "outputs": [
    {
     "data": {
      "image/png": "[encoded data removed]",
      "text/plain": [
       "<Figure size 1000x500 with 1 Axes>"
      ]
     },
     "metadata": {},
     "output_type": "display_data"
    }
   ],
   "source": [
    "def visualization(training_data = X_train,\n",
    "                  training_labels = Y_train,\n",
    "                  testing_data = X_test,\n",
    "                  testing_labels = Y_test,\n",
    "                  inference = None) :\n",
    "    \n",
    "    plt.figure(figsize=(10,5))       \n",
    "\n",
    "    plt.scatter(training_data,training_labels, c = \"green\" , label = \"Trainning data\")\n",
    "    plt.scatter(testing_data,testing_labels, c = \"red\" , label = \"Trainning data\")\n",
    "    plt.grid(True,linestyle = \"--\")\n",
    "\n",
    "    if inference is not None :\n",
    "        plt.plot(X_test,inference, c = \"blue\", label = \"Inference\")\n",
    "\n",
    "visualization(inference=None)\n"
   ]
  },
  {
   "cell_type": "code",
   "execution_count": 90,
   "metadata": {},
   "outputs": [],
   "source": [
    "epochs = 150000\n",
    "\n",
    "for numbers in range(epochs) :\n",
    "    model.train()\n",
    "    optimizer.zero_grad()\n",
    "    prediction = model(X_train)\n",
    "    loss = loss_function(prediction,Y_train)\n",
    "    loss.backward()\n",
    "    optimizer.step()"
   ]
  },
  {
   "cell_type": "code",
   "execution_count": null,
   "metadata": {},
   "outputs": [],
   "source": [
    "\n",
    "with torch.inference_mode() :\n",
    "    prediction = model(X_test)\n",
    "\n",
    "\n",
    "visualization(inference = prediction)\n",
    "model.state_dict(),prediction"
   ]
  },
  {
   "cell_type": "code",
   "execution_count": null,
   "metadata": {},
   "outputs": [],
   "source": []
  },
  {
   "cell_type": "code",
   "execution_count": null,
   "metadata": {},
   "outputs": [],
   "source": []
  },
  {
   "cell_type": "code",
   "execution_count": null,
   "metadata": {},
   "outputs": [],
   "source": []
  }
 ],
 "metadata": {
  "kernelspec": {
   "display_name": "Python 3",
   "language": "python",
   "name": "python3"
  },
  "language_info": {
   "codemirror_mode": {
    "name": "ipython",
    "version": 3
   },
   "file_extension": ".py",
   "mimetype": "text/x-python",
   "name": "python",
   "nbconvert_exporter": "python",
   "pygments_lexer": "ipython3",
   "version": "3.10.13"
  }
 },
 "nbformat": 4,
 "nbformat_minor": 2
}
