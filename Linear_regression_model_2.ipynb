{
 "cells": [
  {
   "cell_type": "markdown",
   "metadata": {},
   "source": [
    "You are given a dataset of a company's advertising spend on TV,radio ans Newspapers, the dataset contains the following information :\n",
    "\n",
    "\n",
    "TV : the amount of money spent on Tv advertisements in USD.\n",
    "Radio : the amount of money spent on radio advertisements in USD.\n",
    "Newspaper : the amount of money spent on newspaper advertisements in USD.\n",
    "Sales : the sales of the company in USD.\n",
    "\n",
    "Your task is to build a linear regression model is that predict the sales based on the advertising spend on TV,Radio and Newspaper.\n",
    "\n",
    "The eqution of your linear regressiob model will be the form of $$\\\\Sales = Theta_0*Theta_1*Tv + Theta_2*Radio + Theta_3*Newspaper $$ \n",
    "\n",
    "Tv, Radio and Newspaper are features of the model."
   ]
  },
  {
   "cell_type": "code",
   "execution_count": 2,
   "metadata": {},
   "outputs": [],
   "source": [
    "import torch \n",
    "import torch.nn as nn \n",
    "from sklearn.model_selection import train_test_split\n",
    "import matplotlib.pyplot as plt "
   ]
  },
  {
   "cell_type": "code",
   "execution_count": 3,
   "metadata": {},
   "outputs": [],
   "source": [
    "RANDOME_SEED = 45 \n",
    "torch.manual_seed(RANDOME_SEED)\n",
    "\n",
    "\n",
    "TV = torch.rand(9)\n",
    "RADIO = torch.rand(9)\n",
    "NEWSPAPER = torch.rand(9)\n",
    "\n",
    "t0,t1, t2, t3 = torch.rand(4)\n",
    "\n",
    "sales = t0*t1*TV  + t2*RADIO + t3*NEWSPAPER\n"
   ]
  },
  {
   "cell_type": "code",
   "execution_count": 4,
   "metadata": {},
   "outputs": [],
   "source": [
    "features = torch.stack((TV,RADIO,NEWSPAPER),1)"
   ]
  },
  {
   "cell_type": "code",
   "execution_count": 5,
   "metadata": {},
   "outputs": [],
   "source": [
    "X_train,X_test,Y_train,Y_test = train_test_split(features,\n",
    "                                                 sales,\n",
    "                                                 test_size=0.3,\n",
    "                                                 random_state=RANDOME_SEED\n",
    "                                                 )"
   ]
  },
  {
   "cell_type": "code",
   "execution_count": 6,
   "metadata": {},
   "outputs": [],
   "source": [
    "class LinearRegression(nn.Module) :\n",
    "    def __init__(self):\n",
    "        super().__init__()\n",
    "        self.linear = nn.Linear(3,1)\n",
    "\n",
    "    def forward(self,x) :\n",
    "        return self.linear(x)"
   ]
  },
  {
   "cell_type": "code",
   "execution_count": 19,
   "metadata": {},
   "outputs": [],
   "source": [
    "model = LinearRegression()\n",
    "loss_function = nn.L1Loss()\n",
    "optimizer = torch.optim.SGD(model.parameters(),\n",
    "                            lr = 0.01)"
   ]
  },
  {
   "cell_type": "code",
   "execution_count": 20,
   "metadata": {},
   "outputs": [],
   "source": [
    "def visualization(training_data = X_train,\n",
    "                  training_labels = Y_train,\n",
    "                  testing_data = X_test,\n",
    "                  testing_labels = Y_test,\n",
    "                  inference = None) :\n",
    "    \n",
    "    plt.figure(figsize=(10,5))       \n",
    "\n",
    "    plt.scatter(training_data,training_labels, c = \"green\" , label = \"Trainning data\")\n",
    "    plt.scatter(testing_data,testing_labels, c = \"red\" , label = \"Trainning data\")\n",
    "    plt.grid(True,linestyle = \"--\")\n",
    "\n",
    "    if inference is not None :\n",
    "        plt.plot(testing_data,inference, c = \"blue\", label = \"Inference\")\n",
    "\n"
   ]
  },
  {
   "cell_type": "code",
   "execution_count": 21,
   "metadata": {},
   "outputs": [
    {
     "name": "stderr",
     "output_type": "stream",
     "text": [
      "/home/codespace/.local/lib/python3.10/site-packages/torch/nn/modules/loss.py:101: UserWarning: Using a target size (torch.Size([6])) that is different to the input size (torch.Size([6, 1])). This will likely lead to incorrect results due to broadcasting. Please ensure they have the same size.\n",
      "  return F.l1_loss(input, target, reduction=self.reduction)\n"
     ]
    }
   ],
   "source": [
    "epochs = 1000\n",
    "losses = []\n",
    "for numbers in range(epochs) :\n",
    "    model.train()\n",
    "    optimizer.zero_grad()\n",
    "    prediction = model(X_train)\n",
    "    loss = loss_function(prediction,Y_train)\n",
    "    loss.backward()\n",
    "    optimizer.step()\n",
    "    losses.append(loss.item())\n"
   ]
  },
  {
   "cell_type": "code",
   "execution_count": 22,
   "metadata": {},
   "outputs": [
    {
     "data": {
      "image/png": "[encoded data removed]",
      "text/plain": [
       "<Figure size 1000x500 with 1 Axes>"
      ]
     },
     "metadata": {},
     "output_type": "display_data"
    }
   ],
   "source": [
    "def Train_loss_Visualization() :\n",
    "    plt.figure(figsize=(10,5))\n",
    "    plt.plot(losses, c = \"red\", label=\"Training losses\")\n",
    "    plt.grid(True,linestyle = \"--\")\n",
    "    plt.legend(loc=\"upper left\")\n",
    "\n",
    "Train_loss_Visualization()"
   ]
  },
  {
   "cell_type": "code",
   "execution_count": 25,
   "metadata": {},
   "outputs": [
    {
     "data": {
      "text/plain": [
       "tensor([[0.3443],\n",
       "        [0.7255],\n",
       "        [0.2755]])"
      ]
     },
     "execution_count": 25,
     "metadata": {},
     "output_type": "execute_result"
    }
   ],
   "source": [
    "model.eval()\n",
    "\n",
    "with torch.inference_mode() :\n",
    "    inference = model(X_test)\n",
    "\n",
    "inference"
   ]
  }
 ],
 "metadata": {
  "kernelspec": {
   "display_name": "Python 3",
   "language": "python",
   "name": "python3"
  },
  "language_info": {
   "codemirror_mode": {
    "name": "ipython",
    "version": 3
   },
   "file_extension": ".py",
   "mimetype": "text/x-python",
   "name": "python",
   "nbconvert_exporter": "python",
   "pygments_lexer": "ipython3",
   "version": "3.10.13"
  }
 },
 "nbformat": 4,
 "nbformat_minor": 2
}
