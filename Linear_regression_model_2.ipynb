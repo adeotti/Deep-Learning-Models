{
 "cells": [
  {
   "cell_type": "markdown",
   "metadata": {},
   "source": [
    "You are given a dataset of a company's advertising spend on TV,radio ans Newspapers, the dataset contains the following information :\n",
    "\n",
    "\n",
    "TV : the amount of money spent on Tv advertisements in USD.\n",
    "Radio : the amount of money spent on radio advertisements in USD.\n",
    "Newspaper : the amount of money spent on newspaper advertisements in USD.\n",
    "Sales : the sales of the company in USD.\n",
    "\n",
    "Your task is to build a linear regression model is that predict the sales based on the advertising spend on TV,Radio and Newspaper.\n",
    "\n",
    "The eqution of your linear regressiob model will be the form of $$\\\\Sales = Theta_0*Theta_1*Tv + Theta_2*Radio + Theta_3*Newspaper $$ \n",
    "\n",
    "Tv, Radio and Newspaper are features of the model."
   ]
  },
  {
   "cell_type": "code",
   "execution_count": 18,
   "metadata": {},
   "outputs": [],
   "source": [
    "import torch \n",
    "import torch.nn as nn \n",
    "from sklearn.model_selection import train_test_split\n",
    "import matplotlib.pyplot as plt "
   ]
  },
  {
   "cell_type": "code",
   "execution_count": 19,
   "metadata": {},
   "outputs": [],
   "source": [
    "RANDOME_SEED = 45 \n",
    "torch.manual_seed(RANDOME_SEED)\n",
    "t0 = torch.rand(10)\n",
    "t1 = torch.rand(10)\n",
    "t2 = torch.rand(10)\n",
    "t3 = torch.rand(10)\n",
    "\n",
    "sales = t0*t1*10 + t2*5 + t3*2"
   ]
  },
  {
   "cell_type": "code",
   "execution_count": 20,
   "metadata": {},
   "outputs": [],
   "source": [
    "stack = torch.stack([torch.ones(10), t0, t1, t2, t3], dim=1)"
   ]
  },
  {
   "cell_type": "markdown",
   "metadata": {},
   "source": [
    "When we are dealing with a multiples varibles equation, we stack the features for the train/test split for exemples "
   ]
  },
  {
   "cell_type": "code",
   "execution_count": 21,
   "metadata": {},
   "outputs": [],
   "source": [
    "stack_train,stack_test,sales_train,sales_test = train_test_split(stack,sales,test_size=0.2,random_state=RANDOME_SEED)"
   ]
  },
  {
   "cell_type": "code",
   "execution_count": null,
   "metadata": {},
   "outputs": [],
   "source": [
    "\n",
    "stack_train.shape"
   ]
  },
  {
   "cell_type": "code",
   "execution_count": null,
   "metadata": {},
   "outputs": [],
   "source": [
    "def visualization(training_data = stack_train,\n",
    "                  training_labels = sales_train,\n",
    "                  testing_data = stack_test,\n",
    "                  testing_labels = sales_test,\n",
    "                  inference = None) :\n",
    "    \n",
    "    plt.figure(figsize=(10,5))       \n",
    "\n",
    "    plt.scatter(training_data,training_labels, c = \"green\" , label = \"Trainning data\")\n",
    "    plt.scatter(testing_data,testing_labels, c = \"red\" , label = \"Trainning data\")\n",
    "    plt.grid(True,linestyle = \"--\")\n",
    "\n",
    "    if inference is not None :\n",
    "        plt.scatter(stack_test,inference,c = \"blue\" , label = \"Inference\")\n",
    "   \n",
    "#  Reshaping \n",
    "stack_train = stack_train.reshape(-1)\n",
    "stack_train = stack_train[:8]\n",
    "stack_test = stack_test.reshape(-1)\n",
    "stack_test = stack_test[:2]"
   ]
  },
  {
   "cell_type": "code",
   "execution_count": null,
   "metadata": {},
   "outputs": [],
   "source": [
    "class LinearRegressionModel(nn.Module):\n",
    "    def __init__(selt)\n",
    "        super().__init__()\n",
    "        pass\n",
    "\n",
    "        \n",
    "\n",
    "\n",
    "    def forward(self, stack) :\n",
    "        pass"
   ]
  },
  {
   "cell_type": "code",
   "execution_count": null,
   "metadata": {},
   "outputs": [],
   "source": []
  }
 ],
 "metadata": {
  "kernelspec": {
   "display_name": "Python 3",
   "language": "python",
   "name": "python3"
  },
  "language_info": {
   "codemirror_mode": {
    "name": "ipython",
    "version": 3
   },
   "file_extension": ".py",
   "mimetype": "text/x-python",
   "name": "python",
   "nbconvert_exporter": "python",
   "pygments_lexer": "ipython3",
   "version": "3.10.13"
  }
 },
 "nbformat": 4,
 "nbformat_minor": 2
}
