{
 "cells": [
  {
   "cell_type": "code",
   "execution_count": 1,
   "metadata": {},
   "outputs": [],
   "source": [
    "import torch \n",
    "from torch import nn\n",
    "import matplotlib.pyplot as plt\n"
   ]
  },
  {
   "cell_type": "code",
   "execution_count": 2,
   "metadata": {},
   "outputs": [
    {
     "name": "stdout",
     "output_type": "stream",
     "text": [
      "Using device : cpu\n"
     ]
    }
   ],
   "source": [
    "# Device agnostic code \n",
    "device = (\"cuda\" if torch.cuda.is_available() else \"cpu\")\n",
    "print(f\"Using device : {device}\")"
   ]
  },
  {
   "cell_type": "code",
   "execution_count": 3,
   "metadata": {},
   "outputs": [],
   "source": [
    "weight = 0.5\n",
    "bias = 0.2\n",
    "\n",
    "start = 0 \n",
    "end = 1\n",
    "step = 0.02\n",
    "\n",
    "X = torch.arange(start,end,step).unsqueeze(1)\n",
    "y = weight * X + bias"
   ]
  },
  {
   "cell_type": "code",
   "execution_count": 4,
   "metadata": {},
   "outputs": [],
   "source": [
    "from sklearn.model_selection import train_test_split\n",
    "\n",
    "X_train,X_test,y_train,y_test = train_test_split(X,\n",
    "                                 y,\n",
    "                                 test_size = 0.2)"
   ]
  },
  {
   "cell_type": "code",
   "execution_count": 5,
   "metadata": {},
   "outputs": [],
   "source": [
    "def viz(train_data = X_train,\n",
    "        train_label = y_train,\n",
    "        test_data = X_test,\n",
    "        test_label = y_test,\n",
    "        inference = None) :\n",
    "\n",
    "    plt.figure(figsize=(14,10))\n",
    "    plt.scatter(train_data,train_label, color = \"red\", label = \"Training data\")\n",
    "    plt.scatter(test_data,test_label, color = \"green\", label = \"testing data\")\n",
    "    plt.grid(True, linestyle = \"--\")\n",
    "\n",
    "    if inference is not None :\n",
    "        plt.scatter(test_data,inference, color = \"black\")\n",
    "    plt.legend() "
   ]
  },
  {
   "cell_type": "code",
   "execution_count": null,
   "metadata": {},
   "outputs": [],
   "source": [
    "class Linear(nn.Module) :\n",
    "    def __init__(self) -> None:\n",
    "        super().__init__()\n",
    "        \n",
    "        self.Linear_layer = nn.Linear(in_features = 1,\n",
    "                                      out_features = 1)\n",
    "\n",
    "        def forward(self,X):\n",
    "            return self.linear_layer(X)        "
   ]
  },
  {
   "cell_type": "code",
   "execution_count": 13,
   "metadata": {},
   "outputs": [],
   "source": [
    "torch.manual_seed(42)\n",
    "model = Linear()   \n",
    "loss_function = nn.MSELoss() \n",
    "optimizer = torch.optim.SGD(model.parameters(),\n",
    "                            lr = 0.01)"
   ]
  },
  {
   "cell_type": "code",
   "execution_count": null,
   "metadata": {},
   "outputs": [],
   "source": []
  }
 ],
 "metadata": {
  "language_info": {
   "name": "python"
  }
 },
 "nbformat": 4,
 "nbformat_minor": 2
}
