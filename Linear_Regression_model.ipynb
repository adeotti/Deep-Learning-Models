{
 "cells": [
  {
   "cell_type": "markdown",
   "metadata": {},
   "source": [
    "You are given a dataset where each data point has one feature X and one target varibale y. The relationship between X and y is linear, and can be expressed as : $$ y = 2x + 3 $$ \n",
    "Your task is to build a neural network that can learn this relationship. That is, given a new x value, your model should be able to predict the corresponding y value."
   ]
  },
  {
   "cell_type": "code",
   "execution_count": null,
   "metadata": {},
   "outputs": [],
   "source": [
    "import torch.nn as nn\n",
    "import torch\n",
    "import matplotlib.pyplot as plt\n",
    "from sklearn.model_selection import train_test_split"
   ]
  },
  {
   "cell_type": "code",
   "execution_count": 9,
   "metadata": {},
   "outputs": [],
   "source": [
    "X = torch.arange(1,21)\n",
    "y = 2*X + 3\n",
    "\n",
    "RANDOME_SEED = 42\n",
    "torch.manual_seed(RANDOME_SEED)"
   ]
  },
  {
   "cell_type": "code",
   "execution_count": null,
   "metadata": {},
   "outputs": [],
   "source": [
    "# Train test split ratio... 80/20\n",
    "X_train, X_test, y_train, y_test = train_test_split(X, \n",
    "                                                    y, \n",
    "                                                    test_size=0.2, \n",
    "                                                    random_state=RANDOME_SEED )"
   ]
  },
  {
   "cell_type": "code",
   "execution_count": null,
   "metadata": {},
   "outputs": [],
   "source": [
    "# model class for linear regression\n",
    "class LinearRegression(nn.Module) :\n",
    "    def __init__(self) :\n",
    "        super().__init__()   \n",
    "        self.weights = nn.Parameter(torch.randn(1, \n",
    "                                                requires_grad=True, \n",
    "                                                dtype=torch.float)\n",
    "                                                )\n",
    "        self.bias = nn.Parameter(torch.randn(1,\n",
    "                                                requires_grad=True,\n",
    "                                                dtype=torch.float)\n",
    "                                                )\n",
    "    def forward(self, X) :\n",
    "        return self.weights * X + self.bias"
   ]
  },
  {
   "cell_type": "code",
   "execution_count": 313,
   "metadata": {},
   "outputs": [],
   "source": [
    "model = LinearRegression()\n",
    "loss_function = nn.MSELoss()\n",
    "optimizer = torch.optim.SGD(params = model.parameters(),\n",
    "                            lr = 0.01)"
   ]
  },
  {
   "cell_type": "code",
   "execution_count": 354,
   "metadata": {},
   "outputs": [],
   "source": [
    "# Trainning loop \n",
    "epochs = 100\n",
    "\n",
    "for epoch in range(epochs) :\n",
    "    model.train()\n",
    "    y_pred = model(X_train)\n",
    "    loss = loss_function(y_pred,y_train.float())\n",
    "    \n",
    "    optimizer.zero_grad()\n",
    "    loss.backward()\n",
    "    optimizer.step()\n",
    "\n"
   ]
  },
  {
   "cell_type": "markdown",
   "metadata": {},
   "source": [
    "Our Trainning loop worflow\n",
    "* Epochs\n",
    "* Loop\n",
    "  * Model Initialization\n",
    "  * Inference\n",
    "  * Loss function implementation\n",
    "  * Zeroing the Gradient via optimizer.zero_grad()\n",
    "  * Backpropagation\n",
    "  * Parameters update via optimizer.step()"
   ]
  }
 ],
 "metadata": {
  "kernelspec": {
   "display_name": "Python 3",
   "language": "python",
   "name": "python3"
  },
  "language_info": {
   "codemirror_mode": {
    "name": "ipython",
    "version": 3
   },
   "file_extension": ".py",
   "mimetype": "text/x-python",
   "name": "python",
   "nbconvert_exporter": "python",
   "pygments_lexer": "ipython3",
   "version": "3.10.13"
  }
 },
 "nbformat": 4,
 "nbformat_minor": 2
}
