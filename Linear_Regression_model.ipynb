{
 "cells": [
  {
   "cell_type": "markdown",
   "metadata": {},
   "source": [
    "You are given a dataset where each data point has one feature x and one target varibale y. The relationship between x and y is linear, and can be expressed as : $$ y = 2x + 3 $$ \n",
    "Your task is to build a neural network that can learn this relationship. That is, given a new x value, your model should be able to predict the corresponding y value."
   ]
  },
  {
   "cell_type": "code",
   "execution_count": 12,
   "metadata": {},
   "outputs": [],
   "source": [
    "import torch.nn as nn\n",
    "import torch\n",
    "import matplotlib.pyplot as plt\n",
    "from sklearn.model_selection import train_test_split"
   ]
  },
  {
   "cell_type": "code",
   "execution_count": 13,
   "metadata": {},
   "outputs": [
    {
     "data": {
      "text/plain": [
       "<torch._C.Generator at 0x7f3b112be2d0>"
      ]
     },
     "execution_count": 13,
     "metadata": {},
     "output_type": "execute_result"
    }
   ],
   "source": [
    "X = torch.arange(1,21)\n",
    "y = 2*X + 3\n",
    "\n",
    "RANDOME_SEED = 42\n",
    "torch.manual_seed(RANDOME_SEED)"
   ]
  },
  {
   "cell_type": "code",
   "execution_count": 14,
   "metadata": {},
   "outputs": [],
   "source": [
    "# Train test split ratio... 80/20\n",
    "X_train, X_test, y_train, y_test = train_test_split(X, \n",
    "                                                    y, \n",
    "                                                    test_size=0.2, \n",
    "                                                    random_state=RANDOME_SEED )"
   ]
  },
  {
   "cell_type": "code",
   "execution_count": null,
   "metadata": {},
   "outputs": [],
   "source": [
    "# Visualization with matplotlib\n",
    "def visualization(trainning_data = X_train,\n",
    "                trainning_label =  y_train,\n",
    "                testing_data =  X_test,\n",
    "                testing_label =  y_test,\n",
    "                pred = None) :\n",
    "    \n",
    "    plt.figure(figsize = (16,7.5))\n",
    "\n",
    "    plt.plot(X_train,y_train, c = \"y\", label = \"Trainning data\")\n",
    "    plt.plot(X_test,y_test, c = \"r\", label = \"Tests data\")\n",
    "\n",
    "    if not pred == None :\n",
    "        plt.plot(X_test,pred, c = \"b\", label = \"Prediction\")\n",
    "    \n",
    "    plt.legend()"
   ]
  },
  {
   "cell_type": "code",
   "execution_count": 16,
   "metadata": {},
   "outputs": [],
   "source": [
    "# model class for linear regression\n",
    "class LinearRegression(nn.Module) :\n",
    "    def __init__(self) :\n",
    "        super().__init__()   \n",
    "        self.weights = nn.Parameter(torch.randn(1, \n",
    "                                                requires_grad=True, \n",
    "                                                dtype=torch.float)\n",
    "                                                )\n",
    "        self.bias = nn.Parameter(torch.randn(1,\n",
    "                                                requires_grad=True,\n",
    "                                                dtype=torch.float)\n",
    "                                                )\n",
    "    def forward(self, X) :\n",
    "        return self.weights * X + self.bias"
   ]
  },
  {
   "cell_type": "code",
   "execution_count": 17,
   "metadata": {},
   "outputs": [],
   "source": [
    "model = LinearRegression()\n",
    "loss_function = nn.MSELoss()\n",
    "optimizer = torch.optim.SGD(params = model.parameters(),\n",
    "                            lr = 0.01)"
   ]
  },
  {
   "cell_type": "code",
   "execution_count": 18,
   "metadata": {},
   "outputs": [],
   "source": [
    "# Trainning loop [1]\n",
    "epochs = 100\n",
    "\n",
    "for epoch in range(epochs) :\n",
    "    model.train()\n",
    "    y_pred = model(X_train)\n",
    "    loss = loss_function(y_pred,y_train.float())\n",
    "    optimizer.zero_grad()  \n",
    "    loss.backward()        \n",
    "    optimizer.step()\n",
    "\n"
   ]
  },
  {
   "cell_type": "code",
   "execution_count": null,
   "metadata": {},
   "outputs": [],
   "source": []
  },
  {
   "cell_type": "markdown",
   "metadata": {},
   "source": [
    "[1]  Our Trainning loop worflow\n",
    "* Epochs\n",
    "* Loop\n",
    "  * Model Initialization\n",
    "  * Inference\n",
    "  * Loss function implementation\n",
    "  * Zeroing the Gradient via optimizer.zero_grad()\n",
    "  * Backpropagation\n",
    "  * Parameters update via optimizer.step()"
   ]
  },
  {
   "cell_type": "markdown",
   "metadata": {},
   "source": []
  }
 ],
 "metadata": {
  "kernelspec": {
   "display_name": "Python 3",
   "language": "python",
   "name": "python3"
  },
  "language_info": {
   "codemirror_mode": {
    "name": "ipython",
    "version": 3
   },
   "file_extension": ".py",
   "mimetype": "text/x-python",
   "name": "python",
   "nbconvert_exporter": "python",
   "pygments_lexer": "ipython3",
   "version": "3.10.13"
  }
 },
 "nbformat": 4,
 "nbformat_minor": 2
}
